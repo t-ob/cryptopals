{
 "cells": [
  {
   "cell_type": "code",
   "execution_count": 54,
   "metadata": {
    "tags": []
   },
   "outputs": [
    {
     "output_type": "stream",
     "name": "stdout",
     "text": "Cooking MC's like a pound of bacon\n"
    },
    {
     "output_type": "error",
     "ename": "NameError",
     "evalue": "name 's' is not defined",
     "traceback": [
      "\u001b[0;31m---------------------------------------------------------------------------\u001b[0m",
      "\u001b[0;31mNameError\u001b[0m                                 Traceback (most recent call last)",
      "\u001b[0;32m<ipython-input-54-5370ce392ed2>\u001b[0m in \u001b[0;36m<module>\u001b[0;34m\u001b[0m\n\u001b[1;32m     57\u001b[0m     \u001b[0;32mreturn\u001b[0m \u001b[0mbest_candidate\u001b[0m\u001b[0;34m\u001b[0m\u001b[0;34m\u001b[0m\u001b[0m\n\u001b[1;32m     58\u001b[0m \u001b[0;34m\u001b[0m\u001b[0m\n\u001b[0;32m---> 59\u001b[0;31m \u001b[0mprint\u001b[0m\u001b[0;34m(\u001b[0m\u001b[0mchallenge_4\u001b[0m\u001b[0;34m(\u001b[0m\u001b[0;34m)\u001b[0m\u001b[0;34m)\u001b[0m\u001b[0;34m\u001b[0m\u001b[0;34m\u001b[0m\u001b[0m\n\u001b[0m\u001b[1;32m     60\u001b[0m \u001b[0;34m\u001b[0m\u001b[0m\n",
      "\u001b[0;32m<ipython-input-54-5370ce392ed2>\u001b[0m in \u001b[0;36mchallenge_4\u001b[0;34m()\u001b[0m\n\u001b[1;32m     50\u001b[0m             \u001b[0minput\u001b[0m \u001b[0;34m=\u001b[0m \u001b[0mbytes\u001b[0m\u001b[0;34m.\u001b[0m\u001b[0mfromhex\u001b[0m\u001b[0;34m(\u001b[0m\u001b[0minput\u001b[0m\u001b[0;34m)\u001b[0m\u001b[0;34m\u001b[0m\u001b[0;34m\u001b[0m\u001b[0m\n\u001b[1;32m     51\u001b[0m             \u001b[0;32mfor\u001b[0m \u001b[0mkey\u001b[0m\u001b[0;34m,\u001b[0m \u001b[0mscore\u001b[0m\u001b[0;34m,\u001b[0m \u001b[0mcandidate\u001b[0m \u001b[0;32min\u001b[0m \u001b[0mscored_inputs\u001b[0m\u001b[0;34m(\u001b[0m\u001b[0mscores\u001b[0m\u001b[0;34m,\u001b[0m \u001b[0mlist\u001b[0m\u001b[0;34m(\u001b[0m\u001b[0mrange\u001b[0m\u001b[0;34m(\u001b[0m\u001b[0;36m0x80\u001b[0m\u001b[0;34m)\u001b[0m\u001b[0;34m)\u001b[0m\u001b[0;34m,\u001b[0m \u001b[0;34m[\u001b[0m\u001b[0minput\u001b[0m\u001b[0;34m]\u001b[0m\u001b[0;34m)\u001b[0m\u001b[0;34m:\u001b[0m\u001b[0;34m\u001b[0m\u001b[0;34m\u001b[0m\u001b[0m\n\u001b[0;32m---> 52\u001b[0;31m                 \u001b[0;32mif\u001b[0m \u001b[0mbest_score\u001b[0m \u001b[0;32mis\u001b[0m \u001b[0;32mNone\u001b[0m \u001b[0;32mor\u001b[0m \u001b[0mbest_score\u001b[0m \u001b[0;34m<\u001b[0m \u001b[0ms\u001b[0m\u001b[0;34m:\u001b[0m\u001b[0;34m\u001b[0m\u001b[0;34m\u001b[0m\u001b[0m\n\u001b[0m\u001b[1;32m     53\u001b[0m                     \u001b[0mbest_key\u001b[0m \u001b[0;34m=\u001b[0m \u001b[0mkey\u001b[0m\u001b[0;34m\u001b[0m\u001b[0;34m\u001b[0m\u001b[0m\n\u001b[1;32m     54\u001b[0m                     \u001b[0mbest_score\u001b[0m \u001b[0;34m=\u001b[0m \u001b[0mscore\u001b[0m\u001b[0;34m\u001b[0m\u001b[0;34m\u001b[0m\u001b[0m\n",
      "\u001b[0;31mNameError\u001b[0m: name 's' is not defined"
     ]
    }
   ],
   "source": [
    "\n",
    "import itertools\n",
    "\n",
    "from typing import Iterable, List\n",
    "\n",
    "def generate_plaintext_scores():\n",
    "    scores = {}\n",
    "    etaoinshrdlu = \"ETAOINSHRDLU \"\n",
    "    for (u, l), score in zip(zip(etaoinshrdlu, etaoinshrdlu.lower()), list(range(1, len(etaoinshrdlu) + 1))[::-1]):\n",
    "        scores[ord(u)] = scores[ord(l)] = score ** 0.5\n",
    "    return scores\n",
    "\n",
    "def english_plaintext_score(scores: dict, x: bytes):\n",
    "    score = 0\n",
    "\n",
    "    for b in x:\n",
    "        score += scores.get(b, 0)\n",
    "\n",
    "    return score\n",
    "\n",
    "def scored_inputs(scores: dict, ks: List[int], xs: Iterable[bytes]):\n",
    "    for k in ks:\n",
    "        for x in xs:\n",
    "            key = itertools.cycle([k])\n",
    "            candidate = bytes(bytearray(x ^ y for x, y in zip(key, x)))\n",
    "            score = english_plaintext_score(scores, candidate)\n",
    "            yield k, score, \"\".join(chr(c) for c in candidate)\n",
    "\n",
    "def challenge_3():\n",
    "    scores = generate_plaintext_scores()\n",
    "    input = \"1b37373331363f78151b7f2b783431333d78397828372d363c78373e783a393b3736\"\n",
    "    input = bytes.fromhex(input)\n",
    "\n",
    "    best_key, best_score, best_candidate = None, None, None\n",
    "    for k, s, c in scored_inputs(scores, list(range(0x80)), [input]):\n",
    "        if best_score is None or best_score < s:\n",
    "            best_key = k\n",
    "            best_score = s\n",
    "            best_candidate = c\n",
    "\n",
    "    return best_candidate\n",
    "\n",
    "print(challenge_3())\n",
    "\n",
    "def challenge_4():\n",
    "    scores = generate_plaintext_scores()\n",
    "    with open(\"./resources/4.txt\") as fd:\n",
    "        best_key, best_score, best_candidate = None, None, None\n",
    "        for line in fd:\n",
    "            input = line.strip()\n",
    "            input = bytes.fromhex(input)\n",
    "            for key, score, candidate in scored_inputs(scores, list(range(0x80)), [input]):\n",
    "                if best_score is None or best_score < score:\n",
    "                    best_key = key\n",
    "                    best_score = score\n",
    "                    best_candidate = candidate\n",
    "\n",
    "    return best_candidate\n",
    "\n",
    "print(challenge_4())\n",
    "\n"
   ]
  },
  {
   "cell_type": "code",
   "execution_count": 13,
   "metadata": {},
   "outputs": [
    {
     "output_type": "execute_result",
     "data": {
      "text/plain": "'578f0d7ec38ee6c9fd73a102811d0c00'"
     },
     "metadata": {},
     "execution_count": 13
    }
   ],
   "source": [
    "import os\n",
    "\n",
    "with open(\"/dev/urandom\", \"rb\") as fd:\n",
    "    random_bytes = fd.read(0x10)\n",
    "\n",
    "bytes.hex(random_bytes)"
   ]
  },
  {
   "cell_type": "code",
   "execution_count": 23,
   "metadata": {},
   "outputs": [
    {
     "output_type": "execute_result",
     "data": {
      "text/plain": "'0b3637272a2b2e63622c2e69692a23693a2a3c6324202d623d63343c2a26226324272765272a282b2f20430a652e2c652a3124333a653e2b2027630c692b20283165286326302e27282f'"
     },
     "metadata": {},
     "execution_count": 23
    }
   ],
   "source": [
    "# Repeating key XOR\n",
    "\n",
    "import itertools\n",
    "\n",
    "string = \"\"\"Burning 'em, if you ain't quick and nimble\n",
    "I go crazy when I hear a cymbal\"\"\"\n",
    "\n",
    "key = itertools.cycle(\"ICE\")\n",
    "\n",
    "bytes.hex(bytes(bytearray([ord(x) ^ ord(y) for x, y in zip(string, key)])))"
   ]
  },
  {
   "cell_type": "code",
   "execution_count": 29,
   "metadata": {},
   "outputs": [
    {
     "output_type": "execute_result",
     "data": {
      "text/plain": "37"
     },
     "metadata": {},
     "execution_count": 29
    }
   ],
   "source": [
    "def hamming_distance(x: str, y: str):\n",
    "    x = x.encode(\"utf8\")\n",
    "    y = y.encode(\"utf8\")\n",
    "\n",
    "    distance = 0\n",
    "    for b, c in zip(x, y):\n",
    "        d = b ^ c\n",
    "        while 0 < d:\n",
    "            distance += d & 0x1;\n",
    "            d >>= 1\n",
    "\n",
    "    distance += 0x8 * (len(x) - len(y))\n",
    "    return distance\n",
    "\n",
    "# hamming_distance(\"wokka wokka!!!\", \"this is a test\")\n",
    "\n"
   ]
  }
 ],
 "metadata": {
  "language_info": {
   "codemirror_mode": {
    "name": "ipython",
    "version": 3
   },
   "file_extension": ".py",
   "mimetype": "text/x-python",
   "name": "python",
   "nbconvert_exporter": "python",
   "pygments_lexer": "ipython3",
   "version": 3
  },
  "orig_nbformat": 2,
  "kernelspec": {
   "name": "python_defaultSpec_1594644406407",
   "display_name": "Python 3.8.2 64-bit ('.venv': venv)"
  }
 },
 "nbformat": 4,
 "nbformat_minor": 2
}